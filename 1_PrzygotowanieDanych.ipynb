{
 "cells": [
  {
   "cell_type": "code",
   "execution_count": null,
   "metadata": {
    "id": "1-H5wrSt1bj4"
   },
   "outputs": [],
   "source": [
    "import numpy as np\n",
    "import pandas as pd"
   ]
  },
  {
   "cell_type": "markdown",
   "metadata": {
    "id": "nC81jx-l19nP"
   },
   "source": [
    "Załadowanie plików źródłowych:\n",
    "\n",
    "\n",
    "*   Property_sales_data_New_York.csv\n",
    "*   Airbnb_data_New_York.csv\n",
    "\n"
   ]
  },
  {
   "cell_type": "code",
   "execution_count": null,
   "metadata": {
    "id": "MLfbCg8W1isW"
   },
   "outputs": [],
   "source": [
    "sales_NY = pd.read_csv(\"dane_zrodlowe/Property_sales_data_New_York.csv\")\n",
    "airbnb_NY = pd.read_csv(\"dane_zrodlowe/Airbnb_data_New_York.csv\")"
   ]
  },
  {
   "cell_type": "markdown",
   "metadata": {
    "id": "sWCnwb5A14-Q"
   },
   "source": [
    "Uporządkowanie ramki danych ze sprzedażą mieszkań w Nowym Jorku - sales_NY\n",
    "\n"
   ]
  },
  {
   "cell_type": "code",
   "execution_count": null,
   "metadata": {
    "colab": {
     "base_uri": "https://localhost:8080/",
     "height": 950
    },
    "id": "kJBv9ZwT12KT",
    "outputId": "418c92a5-4d35-4707-cb28-19f007118b85"
   },
   "outputs": [],
   "source": [
    "# Usunięcie zbędnych kolumn\n",
    "try:\n",
    "    sales_NY = sales_NY.drop(columns=[\"Unnamed: 0\"])\n",
    "except KeyError():\n",
    "    pass\n",
    "\n",
    "# Usunięcie zduplikwowanych wierszy\n",
    "sales_NY.drop_duplicates()\n",
    "\n",
    "# Dodanie nowej kolumny z dzielnicą\n",
    "brough_names = {\n",
    "    1: \"Manhattan\",\n",
    "    2: \"Bronx\",\n",
    "    3: \"Brooklyn\",\n",
    "    4: \"Queens\",\n",
    "    5: \"Staten Island\",\n",
    "}\n",
    "\n",
    "for i in list(brough_names.keys()):\n",
    "    sales_NY.loc[sales_NY[\"BOROUGH\"] == i, \"BOROUGH NAME\"] = brough_names[i]\n",
    "\n",
    "# Modyfikacja kolumn tekstowych na numeryczne\n",
    "sales_NY[\"SALE PRICE\"] = sales_NY[\"SALE PRICE\"].str.replace(\"\\D\", \"\", regex=True)\n",
    "sales_NY = sales_NY[sales_NY[\"SALE PRICE\"] != \"\"]\n",
    "sales_NY = sales_NY.reset_index()\n",
    "\n",
    "sales_NY[\"GROSS SQUARE FEET\"] = sales_NY[\"GROSS SQUARE FEET\"].str.replace(\n",
    "    \"\\D\", \"\", regex=True\n",
    ")\n",
    "sales_NY = sales_NY[\n",
    "    np.logical_and(\n",
    "        sales_NY[\"GROSS SQUARE FEET\"] != \"\", sales_NY[\"GROSS SQUARE FEET\"] != \"0\"\n",
    "    )\n",
    "]\n",
    "sales_NY = sales_NY.reset_index()\n",
    "sales_NY = sales_NY.drop(columns=[\"level_0\"])\n",
    "\n",
    "sales_NY[\"LAND SQUARE FEET\"] = sales_NY[\"LAND SQUARE FEET\"].str.replace(\n",
    "    \"\\D\", \"\", regex=True\n",
    ")\n",
    "sales_NY = sales_NY[\n",
    "    np.logical_and(\n",
    "        sales_NY[\"LAND SQUARE FEET\"] != \"\", sales_NY[\"LAND SQUARE FEET\"] != \"0\"\n",
    "    )\n",
    "]\n",
    "\n",
    "sales_NY = sales_NY.reset_index()\n",
    "try:\n",
    "    sales_NY = sales_NY.drop(columns=[\"level_0\"])\n",
    "except KeyError():\n",
    "    pass\n",
    "\n",
    "for column in list(sales_NY.columns):\n",
    "    try:\n",
    "        sales_NY[column] = sales_NY[column].apply(pd.to_numeric)\n",
    "    except ValueError():\n",
    "        pass\n",
    "\n",
    "# Odfiltrowanie niewłaściwych wartości ceny równej 0\n",
    "sales_NY = sales_NY[sales_NY[\"SALE PRICE\"] > 0]\n",
    "sales_NY = sales_NY.reset_index()\n",
    "\n",
    "# Dodanie kolumny z ceną stopy kwadratowej (\"PRICE PER SQUARE FT\")\n",
    "sales_NY[\"PRICE PER SQUARE FT\"] = round(\n",
    "    sales_NY[\"SALE PRICE\"] / sales_NY[\"GROSS SQUARE FEET\"], 2\n",
    ")\n",
    "\n",
    "# Dodanie kolumny z dzielnicami do dalszego porównania\n",
    "sales_NY[\"Neighborhood\"] = sales_NY[\"NEIGHBORHOOD\"].astype(str)\n",
    "sales_NY[\"Neighborhood\"] = sales_NY[\"Neighborhood\"].str.replace(\"'\", \"\", regex=True)\n",
    "sales_NY[\"Neighborhood\"] = sales_NY[\"Neighborhood\"].str.replace(\"-\", \" \", regex=True)\n",
    "\n",
    "# Usunięcie zbędnych kolumn\n",
    "try:\n",
    "    sales_NY = sales_NY.drop(columns=[\"level_0\"])\n",
    "except KeyError():\n",
    "    try:\n",
    "        sales_NY = sales_NY.drop(columns=[\"index\"])\n",
    "    except KeyError():\n",
    "        pass\n",
    "\n",
    "sales_NY = sales_NY.reset_index()\n",
    "\n",
    "sales_NY.head(10)"
   ]
  },
  {
   "cell_type": "markdown",
   "metadata": {
    "id": "C5VdH_JM4GyC"
   },
   "source": [
    "Uporządkowanie ramki danych z wynajmem krótkoterminowym w Nowym Jorku - airbnb_NY"
   ]
  },
  {
   "cell_type": "code",
   "execution_count": null,
   "metadata": {
    "colab": {
     "base_uri": "https://localhost:8080/",
     "height": 730
    },
    "id": "pYrvGZnB37Ko",
    "outputId": "20ec1f00-ad97-42a4-f24b-1c0794ea4d82"
   },
   "outputs": [],
   "source": [
    "# Usunięcie zduplikwowanych wierszy\n",
    "airbnb_NY.drop_duplicates()\n",
    "\n",
    "# Odfiltrowanie zerowych wartości\n",
    "airbnb_NY = airbnb_NY[\n",
    "    np.logical_and(airbnb_NY[\"availability_365\"] > 0, airbnb_NY[\"price\"] > 0)\n",
    "]\n",
    "airbnb_NY = airbnb_NY.reset_index()\n",
    "\n",
    "# Uporządkowanie kolumny z dzielnicą\n",
    "airbnb_NY[\"Neighborhood\"] = airbnb_NY[\"neighbourhood\"].astype(str)\n",
    "airbnb_NY[\"Neighborhood\"] = airbnb_NY[\"Neighborhood\"].str.replace(\"'\", \"\", regex=True)\n",
    "airbnb_NY[\"Neighborhood\"] = airbnb_NY[\"Neighborhood\"].str.replace(\"-\", \" \", regex=True)\n",
    "airbnb_NY[\"Neighborhood\"] = airbnb_NY[\"Neighborhood\"].str.upper()\n",
    "\n",
    "# Usunięcie zbędnych kolumn\n",
    "try:\n",
    "    airbnb_NY = airbnb_NY.drop(columns=[\"level_0\"])\n",
    "except KeyError():\n",
    "    try:\n",
    "        airbnb_NY = airbnb_NY.drop(columns=[\"index\"])\n",
    "    except KeyError():\n",
    "        pass\n",
    "\n",
    "airbnb_NY = airbnb_NY.reset_index()\n",
    "\n",
    "airbnb_NY.head(10)"
   ]
  },
  {
   "cell_type": "markdown",
   "metadata": {
    "id": "jxJK3RdH8Kfs"
   },
   "source": [
    "Ujednolicenie danych w kolumnach z dzielnicami w obu ramkach danych, żeby było możliwe ich porównanie"
   ]
  },
  {
   "cell_type": "code",
   "execution_count": null,
   "metadata": {
    "id": "zRPtayAP1kxa"
   },
   "outputs": [],
   "source": [
    "Neighborhood_dict = {\n",
    "    \"BAY TERRACE\": \"BAY TERRACE, STATEN ISLAND\",\n",
    "    \"CASTLE HILL\": \"CASTLE HILL/UNIONPORT\",\n",
    "    \"UNIONPORT\": \"CASTLE HILL/UNIONPORT\",\n",
    "    \"FLATBUSH CENTRAL\": \"FLATBUSH\",\n",
    "    \"FLATBUSH EAST\": \"EAST FLATBUSH\",\n",
    "    \"FLATBUSH LEFFERTS GARDEN\": \"FLATBUSH\",\n",
    "    \"FLATBUSH NORTH\": \"FLATBUSH\",\n",
    "    \"FLUSHING NORTH\": \"FLUSHING\",\n",
    "    \"FLUSHING SOUTH\": \"FLUSHING\",\n",
    "    \"FLATIRON DISTRICT\": \"FLATIRON\",\n",
    "    \"FINANCIAL DISTRICT\": \"FINANCIAL\",\n",
    "    \"GREENWICH VILLAGE CENTRAL\": \"GREENWICH VILLAGE\",\n",
    "    \"GREENWICH VILLAGE WEST\": \"GREENWICH VILLAGE\",\n",
    "    \"EAST HARLEM\": \"HARLEM EAST\",\n",
    "    \"HARLEM CENTRAL\": \"HARLEM\",\n",
    "    \"HARLEM UPPER\": \"HARLEM\",\n",
    "    \"HARLEM WEST\": \"HARLEM\",\n",
    "    \"HIGHBRIDGE\": \"HIGHBRIDGE/MORRIS HEIGHTS\",\n",
    "    \"MORRIS HEIGHTS\": \"HIGHBRIDGE/MORRIS HEIGHTS\",\n",
    "    \"KINGSBRIDGE\": \"KINGSBRIDGE/JEROME PARK\",\n",
    "    \"MELROSE\": \"MELROSE/CONCOURSE\",\n",
    "    \"CONCOURSE\": \"MELROSE/CONCOURSE\",\n",
    "    \"MIDTOWN CBD\": \"MIDTOWN\",\n",
    "    \"MIDTOWN EAST\": \"MIDTOWN\",\n",
    "    \"MIDTOWN WEST\": \"MIDTOWN\",\n",
    "    \"VAN NEST\": \"MORRIS PARK/VAN NEST\",\n",
    "    \"MORRIS PARK\": \"MORRIS PARK/VAN NEST\",\n",
    "    \"MOUNT HOPE\": \"MOUNT HOPE/MOUNT EDEN\",\n",
    "    \"MOUNT EDEN\": \"MOUNT HOPE/MOUNT EDEN\",\n",
    "    \"MORRISANIA\": \"MORRISANIA/LONGWOOD\",\n",
    "    \"LONGWOOD\": \"MORRISANIA/LONGWOOD\",\n",
    "    \"MOTT HAVEN\": \"MOTT HAVEN/PORT MORRIS\",\n",
    "    \"PORT MORRIS\": \"MOTT HAVEN/PORT MORRIS\",\n",
    "    \"SCHUYLERVILLE\": \"SCHUYLERVILLE/PELHAM BAY\",\n",
    "    \"PELHAM BAY\": \"SCHUYLERVILLE/PELHAM BAY\",\n",
    "    \"UPPER EAST SIDE (59 79)\": \"UPPER EAST SIDE\",\n",
    "    \"UPPER EAST SIDE (79 96)\": \"UPPER EAST SIDE\",\n",
    "    \"UPPER EAST SIDE (96 110)\": \"UPPER EAST SIDE\",\n",
    "    \"UPPER WEST SIDE (59 79)\": \"UPPER WEST SIDE\",\n",
    "    \"UPPER WEST SIDE (79 96)\": \"UPPER WEST SIDE\",\n",
    "    \"UPPER WEST SIDE (96 116)\": \"UPPER WEST SIDE\",\n",
    "    \"WASHINGTON HEIGHTS LOWER\": \"WASHINGTON HEIGHTS\",\n",
    "    \"WASHINGTON HEIGHTS UPPER\": \"WASHINGTON HEIGHTS\",\n",
    "    \"WILLIAMSBURG CENTRAL\": \"WILLIAMSBURG\",\n",
    "    \"WILLIAMSBURG EAST\": \"WILLIAMSBURG\",\n",
    "    \"WILLIAMSBURG NORTH\": \"WILLIAMSBURG\",\n",
    "    \"WILLIAMSBURG SOUTH\": \"WILLIAMSBURG\",\n",
    "}\n",
    "\n",
    "for i in list(Neighborhood_dict.keys()):\n",
    "    if i in set(sales_NY[\"Neighborhood\"]):\n",
    "        sales_NY.loc[sales_NY[\"Neighborhood\"] == i, \"Neighborhood\"] = Neighborhood_dict[\n",
    "            i\n",
    "        ]\n",
    "    elif i in set(airbnb_NY[\"Neighborhood\"]):\n",
    "        airbnb_NY.loc[airbnb_NY[\"Neighborhood\"] == i, \"Neighborhood\"] = (\n",
    "            Neighborhood_dict[i]\n",
    "        )\n",
    "\n",
    "Neighborhoods_list = list(\n",
    "    set(sales_NY[\"Neighborhood\"]).intersection(set(airbnb_NY[\"Neighborhood\"]))\n",
    ")\n",
    "Neighborhoods_list.sort()\n",
    "\n",
    "# Select only wanted columns in sales_NY and fix format of columns names and data in columns\n",
    "sales_NY = sales_NY[\n",
    "    [\n",
    "        \"BOROUGH NAME\",\n",
    "        \"Neighborhood\",\n",
    "        \"BUILDING CLASS CATEGORY\",\n",
    "        \"TAX CLASS AT PRESENT\",\n",
    "        \"BLOCK\",\n",
    "        \"LOT\",\n",
    "        \"EASE-MENT\",\n",
    "        \"BUILDING CLASS AT PRESENT\",\n",
    "        \"ADDRESS\",\n",
    "        \"APARTMENT NUMBER\",\n",
    "        \"ZIP CODE\",\n",
    "        \"RESIDENTIAL UNITS\",\n",
    "        \"COMMERCIAL UNITS\",\n",
    "        \"TOTAL UNITS\",\n",
    "        \"LAND SQUARE FEET\",\n",
    "        \"GROSS SQUARE FEET\",\n",
    "        \"YEAR BUILT\",\n",
    "        \"TAX CLASS AT TIME OF SALE\",\n",
    "        \"BUILDING CLASS AT TIME OF SALE\",\n",
    "        \"SALE PRICE\",\n",
    "        \"SALE DATE\",\n",
    "        \"PRICE PER SQUARE FT\",\n",
    "    ]\n",
    "].copy()\n",
    "\n",
    "sales_NY = sales_NY.rename(str.title, axis=\"columns\")\n",
    "sales_NY = sales_NY.rename(columns={\"Borough Name\": \"Borough\"})\n",
    "sales_NY[\"Address\"] = sales_NY[\"Address\"].str.title()\n",
    "sales_NY[\"Building Class Category\"] = sales_NY[\"Building Class Category\"].str.title()\n",
    "sales_NY[\"Sale Date\"] = pd.to_datetime(sales_NY[\"Sale Date\"])\n",
    "\n",
    "for i in range(0, len(sales_NY[\"Neighborhood\"]) - 1):\n",
    "    if sales_NY[\"Neighborhood\"][i] not in Neighborhoods_list:\n",
    "        sales_NY = sales_NY.drop(index=i)\n",
    "sales_NY = sales_NY.reset_index()\n",
    "sales_NY[\"Neighborhood\"] = sales_NY[\"Neighborhood\"].str.title()\n",
    "sales_NY = sales_NY.drop(columns=[\"index\"])\n",
    "\n",
    "# Select only wanted columns in airbnb_NY and fix format of columns names and data in columns\n",
    "airbnb_NY = airbnb_NY[\n",
    "    [\n",
    "        \"Neighborhood\",\n",
    "        \"name\",\n",
    "        \"host_id\",\n",
    "        \"host_name\",\n",
    "        \"neighbourhood_group\",\n",
    "        \"latitude\",\n",
    "        \"longitude\",\n",
    "        \"room_type\",\n",
    "        \"price\",\n",
    "        \"minimum_nights\",\n",
    "        \"number_of_reviews\",\n",
    "        \"last_review\",\n",
    "        \"reviews_per_month\",\n",
    "        \"calculated_host_listings_count\",\n",
    "        \"availability_365\",\n",
    "    ]\n",
    "].copy()\n",
    "\n",
    "airbnb_NY = airbnb_NY.rename(columns={\"neighbourhood_group\": \"Borough\"})\n",
    "airbnb_NY.columns = airbnb_NY.columns.str.replace(\"_\", \" \", regex=True).str.title()\n",
    "for i in range(0, len(airbnb_NY[\"Neighborhood\"]) - 1):\n",
    "    if airbnb_NY[\"Neighborhood\"][i] not in Neighborhoods_list:\n",
    "        airbnb_NY = airbnb_NY.drop(index=i)\n",
    "airbnb_NY = airbnb_NY.reset_index()\n",
    "airbnb_NY[\"Neighborhood\"] = airbnb_NY[\"Neighborhood\"].str.title()\n",
    "airbnb_NY = airbnb_NY.drop(\n",
    "    index=airbnb_NY.loc[airbnb_NY[\"Neighborhood\"] == \"Hells Kitchen\"].index\n",
    ")\n",
    "\n",
    "airbnb_NY = airbnb_NY.drop(columns=[\"index\"])"
   ]
  },
  {
   "cell_type": "markdown",
   "metadata": {
    "id": "udhYxJTP-25g"
   },
   "source": [
    "Statystyki tabeli sales_NY"
   ]
  },
  {
   "cell_type": "code",
   "execution_count": null,
   "metadata": {
    "colab": {
     "base_uri": "https://localhost:8080/",
     "height": 774
    },
    "id": "Q7uG9oEX-E1v",
    "outputId": "85c7b838-eeac-4c96-9447-a6c7413d2df9"
   },
   "outputs": [],
   "source": [
    "# Sprawdzenie, czy wszystkie niechciane puste komórki zostały usunięte z sales_NY\n",
    "sales_NY.isnull().sum()"
   ]
  },
  {
   "cell_type": "code",
   "execution_count": null,
   "metadata": {
    "colab": {
     "base_uri": "https://localhost:8080/",
     "height": 459
    },
    "id": "Slj99CNb-fKK",
    "outputId": "fb16d1f1-a696-453c-b1ef-98c9b4faf7ba"
   },
   "outputs": [],
   "source": [
    "# Podsumowanie każdej kolumny z sales_NY\n",
    "sales_NY.describe()"
   ]
  },
  {
   "cell_type": "code",
   "execution_count": null,
   "metadata": {
    "colab": {
     "base_uri": "https://localhost:8080/",
     "height": 846
    },
    "id": "gZKXVGUg1kud",
    "outputId": "d5955d8c-2146-4d86-cfe8-b034422171a7"
   },
   "outputs": [],
   "source": [
    "sales_NY.head(10)"
   ]
  },
  {
   "cell_type": "markdown",
   "metadata": {
    "id": "MXzW3ern-xyc"
   },
   "source": [
    "Statystyki tabeli airbnb_NY"
   ]
  },
  {
   "cell_type": "code",
   "execution_count": null,
   "metadata": {
    "colab": {
     "base_uri": "https://localhost:8080/",
     "height": 554
    },
    "id": "UgZ2IEtP-Le5",
    "outputId": "f9f68941-d0b6-42ca-8510-c4b19c8178f4"
   },
   "outputs": [],
   "source": [
    "# Sprawdzenie, czy wszystkie niechciane puste komórki zostały usunięte z airbnb_NY\n",
    "airbnb_NY.isnull().sum()"
   ]
  },
  {
   "cell_type": "code",
   "execution_count": null,
   "metadata": {
    "colab": {
     "base_uri": "https://localhost:8080/",
     "height": 318
    },
    "id": "UiSkCdhg-WDM",
    "outputId": "92b00020-c383-4889-e4a6-78c3a2ad682c"
   },
   "outputs": [],
   "source": [
    "# Podsumowanie każdej kolumny z airbnb_NY\n",
    "airbnb_NY.describe()"
   ]
  },
  {
   "cell_type": "code",
   "execution_count": null,
   "metadata": {
    "colab": {
     "base_uri": "https://localhost:8080/",
     "height": 782
    },
    "id": "ZKL8sqPs1krg",
    "outputId": "5e096e89-fb0a-4029-9d07-0436b9350b6c"
   },
   "outputs": [],
   "source": [
    "airbnb_NY.head(10)"
   ]
  },
  {
   "cell_type": "code",
   "execution_count": null,
   "metadata": {
    "id": "H08BQhTS_FLE"
   },
   "outputs": [],
   "source": [
    "# Zapis wyczyszczonych tabeli jako .json do użycia w aplikacji 2_AplikacjaStreamlit.py\n",
    "sales_NY.to_json(\"dane_przeksztalcone/sales_NY.json\")\n",
    "airbnb_NY.to_json(\"dane_przeksztalcone/airbnb_NY.json\")"
   ]
  }
 ],
 "metadata": {
  "colab": {
   "provenance": []
  },
  "kernelspec": {
   "display_name": ".venv",
   "language": "python",
   "name": "python3"
  },
  "language_info": {
   "codemirror_mode": {
    "name": "ipython",
    "version": 3
   },
   "file_extension": ".py",
   "mimetype": "text/x-python",
   "name": "python",
   "nbconvert_exporter": "python",
   "pygments_lexer": "ipython3",
   "version": "3.9.19"
  }
 },
 "nbformat": 4,
 "nbformat_minor": 0
}
